{
 "cells": [
  {
   "cell_type": "markdown",
   "id": "b3d08535",
   "metadata": {},
   "source": [
    "<img src=\"https://raw.githubusercontent.com/afo/data-x-plaksha/master/imgsource/dx_logo.png\" align=\"left\"></img><br><br><br><br>"
   ]
  },
  {
   "cell_type": "markdown",
   "id": "4c408082",
   "metadata": {},
   "source": [
    "## Plaksha SQL assignment"
   ]
  },
  {
   "cell_type": "markdown",
   "id": "7f7d4113-c3a9-47b2-b7df-b844d49abd22",
   "metadata": {},
   "source": [
    "---\n",
    "\n",
    "## Submission details:\n",
    "\n",
    "Please submit this as a Jupyter Notebook and a PDF of your results (both should show output). Also push your solutions to Github.\n",
    "\n",
    "For the submision create a local database with `sqlite3` or `sqlalchemy` in a Jupyter notebook and make the queries either with a cursor object (and then print the results) or by using pandas `pd.read_sql_query()`."
   ]
  },
  {
   "cell_type": "markdown",
   "id": "0c551f03-7eff-43e2-89a7-a53b54098223",
   "metadata": {},
   "source": [
    "___\n",
    "\n",
    "When completing this homework you can experiment with SQL commands by utilizing this great online editor:\n",
    "\n",
    "https://www.w3schools.com/sql/trysql.asp?filename=trysql_select_all\n",
    "\n",
    "There are already some tables in the online Database, namely:\n",
    "\n",
    "`Categories, Employees, OrderDetails, Orders, Products, Shippers, and Suppliers.`\n",
    "\n",
    "If you want you can drop them by running  `DROP TABLE [table-name];` (or just keep them)."
   ]
  },
  {
   "cell_type": "markdown",
   "id": "dccc820f-21b0-4b2c-9ca8-9cb9eab76023",
   "metadata": {},
   "source": [
    "___\n",
    "\n",
    "## Exercises:\n",
    "\n",
    "First create a table called students. It has the columns: 'student_id', 'name', 'major', 'gpa' and 'enrollment_date' We will use a new form of `CREATE TABLE` expression to produce this table.\n",
    "\n",
    "Note that you can improve this and are welcome to do so -- e.g. by specifying for example a PRIMARY KEY and a FOREIGN KEY in Q2 :)\n",
    "\n",
    "    CREATE TABLE students AS\n",
    "        SELECT 1 AS student_id, \"John\" AS name, \"Computer Science\" AS major, 3.5 AS gpa, \"01-01-2022\" AS enrollment_date UNION\n",
    "        SELECT 2, \"Jane\", \"Physics\", 3.8, \"01-02-2022\" UNION\n",
    "        SELECT 3, \"Bob\", \"Engineering\", 3.0, \"01-03-2022\" UNION\n",
    "        SELECT 4, \"Samantha\", \"Physics\", 3.9, \"01-04-2022\" UNION\n",
    "        SELECT 5, \"James\", \"Engineering\", 3.7, \"01-05-2022\" UNION\n",
    "        SELECT 6, \"Emily\", \"Computer Science\", 3.6, \"01-06-2022\" UNION\n",
    "        SELECT 7, \"Michael\", \"Computer Science\", 3.2, \"01-07-2022\" UNION\n",
    "        SELECT 8, \"Jessica\", \"Engineering\", 3.8, \"01-08-2022\" UNION\n",
    "        SELECT 9, \"Jacob\", \"Physics\", 3.4, \"01-09-2022\" UNION\n",
    "        SELECT 10, \"Ashley\", \"Physics\", 3.9, \"01-10-2022\";\n",
    "\n",
    "\n",
    "## Q1 Simple SELECTS (on the students table)\n",
    "1. SELECT all records in the table.\n",
    "2. SELECT students whose major is \"Computer Science\".\n",
    "3. SELECT all unique majors (use SELECT DISTINCT) and order them by name, descending order (i.e. Physics first).\n",
    "4. SELECT all students that have an 'e' in their name and order them by gpa in ascending order.\n",
    "\n",
    "\n",
    "## Q2 Joins\n",
    "\n",
    "Create a new table called courses, which indicates the courses taken by the students. \n",
    "\n",
    "Create the table by running:\n",
    "\t\n",
    "    CREATE TABLE courses AS\n",
    "        SELECT 1 AS course_id, \"Python programming\" AS course_name, 1 AS student_id, \"A\" AS grade UNION\n",
    "        SELECT 2, \"Data Structures\", 2, \"B\" UNION\n",
    "        SELECT 3, \"Database Systems\", 3, \"B\" UNION\n",
    "        SELECT 1, \"Python programming\", 4, \"A\" UNION\n",
    "        SELECT 4, \"Quantum Mechanics\", 5, \"C\" UNION\n",
    "        SELECT 1, \"Python programming\", 6, \"F\" UNION\n",
    "        SELECT 2, \"Data Structures\", 7, \"C\" UNION\n",
    "        SELECT 3, \"Database Systems\", 8, \"A\" UNION\n",
    "        SELECT 4, \"Quantum Mechanics\", 9, \"A\" UNION\n",
    "        SELECT 2, \"Data Structures\", 10, \"F\";\n",
    "\n",
    "1. COUNT the number of unique courses.\n",
    "2. JOIN the tables students and courses and COUNT the number of students with the major Computer Science taking the course Python programming.\n",
    "3. JOIN the tables students and courses and select the students who have grades higher than \"C\", only show their name, major, gpa, course_name and grade.\n",
    "\n",
    "\n",
    "## Q3 Aggregate functions, numerical logic and grouping\n",
    "\n",
    "1. Find the average gpa of all students.\n",
    "2. SELECT the student with the maximum gpa, display only their student_id, major and gpa\n",
    "3. SELECT the student with the minimum gpa, display only their student_id, major and gpa\n",
    "4. SELECT the students with a gpa greater than 3.6 in the majors of \"Physics\" and \"Engineering\", display only their student_id, major and gpa\n",
    "5. Group the students by their major and retrieve the average grade of each major.\n",
    "6. SELECT the top 2 students with the highest GPA in each major and order the results by major in ascending order, then by GPA in descending order"
   ]
  },
  {
   "cell_type": "markdown",
   "id": "3ab84519",
   "metadata": {},
   "source": [
    "# Your solution"
   ]
  },
  {
   "cell_type": "code",
   "execution_count": 1,
   "id": "c7cff114",
   "metadata": {},
   "outputs": [],
   "source": [
    "import sqlite3\n",
    "import numpy as np\n",
    "import pandas as pd"
   ]
  },
  {
   "cell_type": "code",
   "execution_count": 2,
   "id": "32cdef50",
   "metadata": {},
   "outputs": [],
   "source": [
    "connection_obj = sqlite3.connect(\"database.db\")"
   ]
  },
  {
   "cell_type": "code",
   "execution_count": 3,
   "id": "ab968116",
   "metadata": {},
   "outputs": [],
   "source": [
    "cursor_obj = connection_obj.cursor()"
   ]
  },
  {
   "cell_type": "code",
   "execution_count": 4,
   "id": "bdb34c5f",
   "metadata": {},
   "outputs": [
    {
     "data": {
      "text/plain": [
       "<sqlite3.Cursor at 0x7f962fedc340>"
      ]
     },
     "execution_count": 4,
     "metadata": {},
     "output_type": "execute_result"
    }
   ],
   "source": [
    "cursor_obj.execute(\"DROP TABLE IF EXISTS students\")\n",
    "cursor_obj.execute(\"DROP TABLE IF EXISTS courses\")"
   ]
  },
  {
   "cell_type": "code",
   "execution_count": 5,
   "id": "8d7f4040",
   "metadata": {},
   "outputs": [],
   "source": [
    "table = \"\"\"\n",
    "CREATE TABLE students AS\n",
    "        SELECT 1 AS student_id, \"John\" AS name, \"Computer Science\" AS major, 3.5 AS gpa, \"01-01-2022\" AS enrollment_date UNION\n",
    "        SELECT 2, \"Jane\", \"Physics\", 3.8, \"01-02-2022\" UNION\n",
    "        SELECT 3, \"Bob\", \"Engineering\", 3.0, \"01-03-2022\" UNION\n",
    "        SELECT 4, \"Samantha\", \"Physics\", 3.9, \"01-04-2022\" UNION\n",
    "        SELECT 5, \"James\", \"Engineering\", 3.7, \"01-05-2022\" UNION\n",
    "        SELECT 6, \"Emily\", \"Computer Science\", 3.6, \"01-06-2022\" UNION\n",
    "        SELECT 7, \"Michael\", \"Computer Science\", 3.2, \"01-07-2022\" UNION\n",
    "        SELECT 8, \"Jessica\", \"Engineering\", 3.8, \"01-08-2022\" UNION\n",
    "        SELECT 9, \"Jacob\", \"Physics\", 3.4, \"01-09-2022\" UNION\n",
    "        SELECT 10, \"Ashley\", \"Physics\", 3.9, \"01-10-2022\";\n",
    "\"\"\""
   ]
  },
  {
   "cell_type": "code",
   "execution_count": 6,
   "id": "5ac4662d",
   "metadata": {},
   "outputs": [
    {
     "data": {
      "text/plain": [
       "<sqlite3.Cursor at 0x7f962fedc340>"
      ]
     },
     "execution_count": 6,
     "metadata": {},
     "output_type": "execute_result"
    }
   ],
   "source": [
    "cursor_obj.execute(table)"
   ]
  },
  {
   "attachments": {},
   "cell_type": "markdown",
   "id": "7f1f5d63",
   "metadata": {},
   "source": [
    "## Question 1"
   ]
  },
  {
   "attachments": {},
   "cell_type": "markdown",
   "id": "0cc90700",
   "metadata": {},
   "source": [
    "#### SELECT all records in the table"
   ]
  },
  {
   "cell_type": "code",
   "execution_count": 7,
   "id": "739d2f73",
   "metadata": {},
   "outputs": [],
   "source": [
    "query = \"\"\"\n",
    "SELECT *\n",
    "FROM students;\n",
    "\"\"\""
   ]
  },
  {
   "cell_type": "code",
   "execution_count": 8,
   "id": "966884d5",
   "metadata": {},
   "outputs": [
    {
     "name": "stdout",
     "output_type": "stream",
     "text": [
      "(1, 'John', 'Computer Science', 3.5, '01-01-2022')\n",
      "(2, 'Jane', 'Physics', 3.8, '01-02-2022')\n",
      "(3, 'Bob', 'Engineering', 3.0, '01-03-2022')\n",
      "(4, 'Samantha', 'Physics', 3.9, '01-04-2022')\n",
      "(5, 'James', 'Engineering', 3.7, '01-05-2022')\n",
      "(6, 'Emily', 'Computer Science', 3.6, '01-06-2022')\n",
      "(7, 'Michael', 'Computer Science', 3.2, '01-07-2022')\n",
      "(8, 'Jessica', 'Engineering', 3.8, '01-08-2022')\n",
      "(9, 'Jacob', 'Physics', 3.4, '01-09-2022')\n",
      "(10, 'Ashley', 'Physics', 3.9, '01-10-2022')\n"
     ]
    }
   ],
   "source": [
    "output = cursor_obj.execute(query)\n",
    "\n",
    "for i in output:\n",
    "    print(i)"
   ]
  },
  {
   "attachments": {},
   "cell_type": "markdown",
   "id": "379cd0e0",
   "metadata": {},
   "source": [
    "#### SELECT students whose major is \"Computer Science\""
   ]
  },
  {
   "cell_type": "code",
   "execution_count": 9,
   "id": "eeb22d72",
   "metadata": {},
   "outputs": [
    {
     "name": "stdout",
     "output_type": "stream",
     "text": [
      "(1, 'John', 'Computer Science', 3.5, '01-01-2022')\n",
      "(6, 'Emily', 'Computer Science', 3.6, '01-06-2022')\n",
      "(7, 'Michael', 'Computer Science', 3.2, '01-07-2022')\n"
     ]
    }
   ],
   "source": [
    "query = \"\"\"\n",
    "SELECT *\n",
    "FROM students\n",
    "WHERE major='Computer Science';\n",
    "\"\"\"\n",
    "\n",
    "major_cs = cursor_obj.execute(query)\n",
    "for i in major_cs:\n",
    "    print(i)"
   ]
  },
  {
   "attachments": {},
   "cell_type": "markdown",
   "id": "f31f1ad0",
   "metadata": {},
   "source": [
    "#### SELECT all unique major and order them by name, descending order"
   ]
  },
  {
   "cell_type": "code",
   "execution_count": 10,
   "id": "ffa21d1a",
   "metadata": {},
   "outputs": [
    {
     "name": "stdout",
     "output_type": "stream",
     "text": [
      "('Physics',)\n",
      "('Engineering',)\n",
      "('Computer Science',)\n"
     ]
    }
   ],
   "source": [
    "query = \"\"\"\n",
    "SELECT DISTINCT major\n",
    "FROM students\n",
    "ORDER BY major DESC;\n",
    "\"\"\"\n",
    "\n",
    "unique_major = cursor_obj.execute(query)\n",
    "for i in unique_major:\n",
    "    print(i)"
   ]
  },
  {
   "attachments": {},
   "cell_type": "markdown",
   "id": "2d7e1eda",
   "metadata": {},
   "source": [
    "#### SELECT all students that have an 'e' in their name and order them by gpa in ascending order"
   ]
  },
  {
   "cell_type": "code",
   "execution_count": 11,
   "id": "10dd8623",
   "metadata": {},
   "outputs": [
    {
     "name": "stdout",
     "output_type": "stream",
     "text": [
      "('Emily',)\n",
      "('Michael',)\n",
      "('James',)\n",
      "('Jessica',)\n",
      "('Jane',)\n",
      "('Ashley',)\n"
     ]
    }
   ],
   "source": [
    "query = \"\"\"\n",
    "SELECT name\n",
    "FROM students\n",
    "WHERE name LIKE '%e%'\n",
    "ORDER BY major ASC;\n",
    "\"\"\"\n",
    "\n",
    "unique_major = cursor_obj.execute(query)\n",
    "for i in unique_major:\n",
    "    print(i)"
   ]
  },
  {
   "attachments": {},
   "cell_type": "markdown",
   "id": "d766854b",
   "metadata": {},
   "source": [
    "## Question 2"
   ]
  },
  {
   "cell_type": "code",
   "execution_count": 12,
   "id": "40d4453c",
   "metadata": {},
   "outputs": [],
   "source": [
    "table = \"\"\"\n",
    "CREATE TABLE courses AS\n",
    "        SELECT 1 AS course_id, \"Python programming\" AS course_name, 1 AS student_id, \"A\" AS grade UNION\n",
    "        SELECT 2, \"Data Structures\", 2, \"B\" UNION\n",
    "        SELECT 3, \"Database Systems\", 3, \"B\" UNION\n",
    "        SELECT 1, \"Python programming\", 4, \"A\" UNION\n",
    "        SELECT 4, \"Quantum Mechanics\", 5, \"C\" UNION\n",
    "        SELECT 1, \"Python programming\", 6, \"F\" UNION\n",
    "        SELECT 2, \"Data Structures\", 7, \"C\" UNION\n",
    "        SELECT 3, \"Database Systems\", 8, \"A\" UNION\n",
    "        SELECT 4, \"Quantum Mechanics\", 9, \"A\" UNION\n",
    "        SELECT 2, \"Data Structures\", 10, \"F\";\n",
    "\"\"\""
   ]
  },
  {
   "cell_type": "code",
   "execution_count": 13,
   "id": "16658e1a",
   "metadata": {},
   "outputs": [
    {
     "data": {
      "text/plain": [
       "<sqlite3.Cursor at 0x7f962fedc340>"
      ]
     },
     "execution_count": 13,
     "metadata": {},
     "output_type": "execute_result"
    }
   ],
   "source": [
    "cursor_obj.execute(table)"
   ]
  },
  {
   "attachments": {},
   "cell_type": "markdown",
   "id": "13703e86",
   "metadata": {},
   "source": [
    "### COUNT the number of unique courses"
   ]
  },
  {
   "cell_type": "code",
   "execution_count": 14,
   "id": "f6967e73",
   "metadata": {},
   "outputs": [
    {
     "name": "stdout",
     "output_type": "stream",
     "text": [
      "(4,)\n"
     ]
    }
   ],
   "source": [
    "query = \"\"\"\n",
    "SELECT COUNT(DISTINCT course_name)\n",
    "FROM courses;\n",
    "\"\"\"\n",
    "\n",
    "unique_major = cursor_obj.execute(query)\n",
    "for i in unique_major:\n",
    "    print(i)"
   ]
  },
  {
   "attachments": {},
   "cell_type": "markdown",
   "id": "abf1758f",
   "metadata": {},
   "source": [
    "#### JOIN the tables student and courses and COUNT the number of students with the major Computer Science taking the course programming "
   ]
  },
  {
   "cell_type": "code",
   "execution_count": 15,
   "id": "fb369b27",
   "metadata": {},
   "outputs": [
    {
     "name": "stdout",
     "output_type": "stream",
     "text": [
      "(2,)\n"
     ]
    }
   ],
   "source": [
    "query = \"\"\"\n",
    "SELECT COUNT(name)\n",
    "FROM students\n",
    "INNER JOIN courses ON students.student_id = courses.student_id\n",
    "WHERE major='Computer Science' AND course_name='Python programming';\n",
    "\"\"\"\n",
    "\n",
    "cs_pp = cursor_obj.execute(query)\n",
    "for i in cs_pp:\n",
    "    print(i)"
   ]
  },
  {
   "attachments": {},
   "cell_type": "markdown",
   "id": "df87317a",
   "metadata": {},
   "source": [
    "#### JOIN the tables students and courses and select the students who have grades higher than 'C', only show their name, major, gpa, course_name and grade"
   ]
  },
  {
   "cell_type": "code",
   "execution_count": 16,
   "id": "d66b4603",
   "metadata": {},
   "outputs": [
    {
     "name": "stdout",
     "output_type": "stream",
     "text": [
      "('John', 'Computer Science', 3.5, 'Python programming', 'A')\n",
      "('Samantha', 'Physics', 3.9, 'Python programming', 'A')\n",
      "('Jane', 'Physics', 3.8, 'Data Structures', 'B')\n",
      "('Bob', 'Engineering', 3.0, 'Database Systems', 'B')\n",
      "('Jessica', 'Engineering', 3.8, 'Database Systems', 'A')\n",
      "('Jacob', 'Physics', 3.4, 'Quantum Mechanics', 'A')\n"
     ]
    }
   ],
   "source": [
    "query = \"\"\"\n",
    "SELECT name,major,gpa,course_name,grade\n",
    "FROM students\n",
    "INNER JOIN courses ON students.student_id = courses.student_id\n",
    "WHERE grade<'C';\n",
    "\"\"\"\n",
    "\n",
    "good_grades = cursor_obj.execute(query)\n",
    "for i in good_grades:\n",
    "    print(i)"
   ]
  },
  {
   "attachments": {},
   "cell_type": "markdown",
   "id": "3f4491e9",
   "metadata": {},
   "source": [
    "### Question 3"
   ]
  },
  {
   "attachments": {},
   "cell_type": "markdown",
   "id": "b1a48f34",
   "metadata": {},
   "source": [
    "#### Find the average GPA of all students"
   ]
  },
  {
   "cell_type": "code",
   "execution_count": 17,
   "id": "3e8ff7d4",
   "metadata": {},
   "outputs": [
    {
     "name": "stdout",
     "output_type": "stream",
     "text": [
      "(3.58,)\n"
     ]
    }
   ],
   "source": [
    "query = \"\"\"\n",
    "SELECT ROUND(AVG(gpa),3)\n",
    "FROM students;\n",
    "\"\"\"\n",
    "\n",
    "avg_gpa = cursor_obj.execute(query)\n",
    "for i in avg_gpa:\n",
    "    print(i)"
   ]
  },
  {
   "attachments": {},
   "cell_type": "markdown",
   "id": "1423b4e4",
   "metadata": {},
   "source": [
    "#### SELECT the student wuth the maximum gpa, display on their student_id, major and gpa"
   ]
  },
  {
   "cell_type": "code",
   "execution_count": 18,
   "id": "784468a8",
   "metadata": {},
   "outputs": [
    {
     "name": "stdout",
     "output_type": "stream",
     "text": [
      "(4, 'Physics', 3.9)\n"
     ]
    }
   ],
   "source": [
    "query = \"\"\"\n",
    "SELECT student_id,major, gpa\n",
    "FROM students\n",
    "ORDER BY gpa DESC\n",
    "LIMIT 1;\n",
    "\"\"\"\n",
    "\n",
    "max_gpa = cursor_obj.execute(query)\n",
    "for i in max_gpa:\n",
    "    print(i)"
   ]
  },
  {
   "attachments": {},
   "cell_type": "markdown",
   "id": "de964296",
   "metadata": {},
   "source": [
    "#### SELECT the student with the minimum gpa, display only thier student_id, major and gpa"
   ]
  },
  {
   "cell_type": "code",
   "execution_count": 19,
   "id": "5e48fd8c",
   "metadata": {},
   "outputs": [
    {
     "name": "stdout",
     "output_type": "stream",
     "text": [
      "(3, 'Engineering', 3.0)\n"
     ]
    }
   ],
   "source": [
    "query = \"\"\"\n",
    "SELECT student_id,major, gpa\n",
    "FROM students\n",
    "ORDER BY gpa ASC\n",
    "LIMIT 1;\n",
    "\"\"\"\n",
    "\n",
    "min_gpa = cursor_obj.execute(query)\n",
    "for i in min_gpa:\n",
    "    print(i)"
   ]
  },
  {
   "attachments": {},
   "cell_type": "markdown",
   "id": "1b3ce37b",
   "metadata": {},
   "source": [
    "#### SELECT the students with a gpa greater than 3.6 in the majors of \"Physics\" and \"Engineering\", display only their student_id, major and gpa"
   ]
  },
  {
   "cell_type": "code",
   "execution_count": 20,
   "id": "c6a1d571",
   "metadata": {},
   "outputs": [
    {
     "name": "stdout",
     "output_type": "stream",
     "text": [
      "(2, 'Physics', 3.8)\n",
      "(4, 'Physics', 3.9)\n",
      "(5, 'Engineering', 3.7)\n",
      "(8, 'Engineering', 3.8)\n",
      "(10, 'Physics', 3.9)\n"
     ]
    }
   ],
   "source": [
    "query = \"\"\"\n",
    "SELECT student_id,major, gpa\n",
    "FROM students\n",
    "WHERE gpa > 3.6 AND major IN('Physics','Engineering');\n",
    "\"\"\"\n",
    "\n",
    "max_gpa = cursor_obj.execute(query)\n",
    "for i in max_gpa:\n",
    "    print(i)"
   ]
  },
  {
   "attachments": {},
   "cell_type": "markdown",
   "id": "7bf32743",
   "metadata": {},
   "source": [
    "#### Group the students by their major and retrieve the average grade of each major"
   ]
  },
  {
   "cell_type": "code",
   "execution_count": 21,
   "id": "7b28429a",
   "metadata": {},
   "outputs": [
    {
     "name": "stdout",
     "output_type": "stream",
     "text": [
      "('Computer Science', 3.4333333333333336)\n",
      "('Engineering', 3.5)\n",
      "('Physics', 3.75)\n"
     ]
    }
   ],
   "source": [
    "query = \"\"\"\n",
    "SELECT major, AVG(GPA)\n",
    "FROM students\n",
    "GROUP BY major;\n",
    "\"\"\"\n",
    "\n",
    "major_avg_gpa = cursor_obj.execute(query)\n",
    "for i in major_avg_gpa:\n",
    "    print(i)"
   ]
  },
  {
   "attachments": {},
   "cell_type": "markdown",
   "id": "71e14e3c",
   "metadata": {},
   "source": [
    "#### SELECT the top 2 students with the highest GPA in each major and order the results by major in ascending order, then by GPA in descending order"
   ]
  },
  {
   "cell_type": "code",
   "execution_count": 22,
   "id": "6e8d9271",
   "metadata": {},
   "outputs": [
    {
     "data": {
      "text/plain": [
       "<sqlite3.Cursor at 0x7f962fedc340>"
      ]
     },
     "execution_count": 22,
     "metadata": {},
     "output_type": "execute_result"
    }
   ],
   "source": [
    "cursor_obj.execute(\"DROP VIEW IF EXISTS major_ranks\")"
   ]
  },
  {
   "cell_type": "code",
   "execution_count": 23,
   "id": "a9c0da6e",
   "metadata": {},
   "outputs": [
    {
     "data": {
      "text/plain": [
       "<sqlite3.Cursor at 0x7f962fedc340>"
      ]
     },
     "execution_count": 23,
     "metadata": {},
     "output_type": "execute_result"
    }
   ],
   "source": [
    "query = \"\"\"\n",
    "CREATE VIEW major_ranks AS\n",
    "SELECT student_id, major,gpa,\n",
    "RANK() OVER (PARTITION BY major ORDER BY gpa) AS gpa_rank\n",
    "FROM students\n",
    "\"\"\"\n",
    "cursor_obj.execute(query)\n"
   ]
  },
  {
   "cell_type": "code",
   "execution_count": 24,
   "id": "6b3b9594",
   "metadata": {},
   "outputs": [
    {
     "name": "stdout",
     "output_type": "stream",
     "text": [
      "(1, 'Computer Science', 3.5, 2)\n",
      "(7, 'Computer Science', 3.2, 1)\n",
      "(5, 'Engineering', 3.7, 2)\n",
      "(3, 'Engineering', 3.0, 1)\n",
      "(2, 'Physics', 3.8, 2)\n",
      "(9, 'Physics', 3.4, 1)\n"
     ]
    }
   ],
   "source": [
    "query = \"\"\"SELECT * \n",
    "FROM major_ranks\n",
    "WHERE gpa_rank <=2\n",
    "ORDER BY major ASC, gpa DESC;\n",
    "\"\"\"\n",
    "\n",
    "for i in cursor_obj.execute(query):\n",
    "    print(i)"
   ]
  },
  {
   "cell_type": "code",
   "execution_count": 25,
   "id": "de3a3335",
   "metadata": {},
   "outputs": [
    {
     "name": "stdout",
     "output_type": "stream",
     "text": [
      "(1, 'Python programming', 1, 'A')\n",
      "(1, 'Python programming', 4, 'A')\n",
      "(1, 'Python programming', 6, 'F')\n",
      "(2, 'Data Structures', 2, 'B')\n",
      "(2, 'Data Structures', 7, 'C')\n",
      "(2, 'Data Structures', 10, 'F')\n",
      "(3, 'Database Systems', 3, 'B')\n",
      "(3, 'Database Systems', 8, 'A')\n",
      "(4, 'Quantum Mechanics', 5, 'C')\n",
      "(4, 'Quantum Mechanics', 9, 'A')\n"
     ]
    }
   ],
   "source": [
    "query = \"\"\"\n",
    "SELECT *\n",
    "FROM courses;\n",
    "\"\"\"\n",
    "\n",
    "for i in cursor_obj.execute(query):\n",
    "    print(i)"
   ]
  },
  {
   "cell_type": "code",
   "execution_count": 26,
   "id": "6cbfd063",
   "metadata": {},
   "outputs": [],
   "source": [
    "connection_obj.commit()"
   ]
  },
  {
   "cell_type": "code",
   "execution_count": 27,
   "id": "31bdddc4",
   "metadata": {},
   "outputs": [],
   "source": [
    "connection_obj.close()"
   ]
  },
  {
   "cell_type": "code",
   "execution_count": null,
   "id": "3336ab45",
   "metadata": {},
   "outputs": [],
   "source": []
  }
 ],
 "metadata": {
  "kernelspec": {
   "display_name": "venv_default",
   "language": "python",
   "name": "python3"
  },
  "language_info": {
   "codemirror_mode": {
    "name": "ipython",
    "version": 3
   },
   "file_extension": ".py",
   "mimetype": "text/x-python",
   "name": "python",
   "nbconvert_exporter": "python",
   "pygments_lexer": "ipython3",
   "version": "3.8.10"
  },
  "vscode": {
   "interpreter": {
    "hash": "20fbdcf79b44412b1d7ca9b15141453f872a60e8d0bbba8e9666a95c99f59f63"
   }
  }
 },
 "nbformat": 4,
 "nbformat_minor": 5
}
